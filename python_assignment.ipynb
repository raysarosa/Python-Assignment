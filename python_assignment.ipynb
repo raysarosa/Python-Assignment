{
 "cells": [
  {
   "cell_type": "markdown",
   "id": "3b4ade5b",
   "metadata": {},
   "source": [
    "# Programming for Data Science 2024 - Assignment\n",
    "\n",
    "## Overview\n",
    "\n",
    "**Goal**\n",
    "\n",
    "The goal of the midterm assignment is to test your familiarity with the concepts you have learned during the first 5 weeks of the semester.<br>\n",
    "Above all, it is an opportunity for you to challenge yourself and practice. If you are having difficulties with the assignment, reach out for support through the Discussion Forum.\n",
    "\n",
    "The assignment is divided into <ins>2 parts</ins>:\n",
    "1. Python basics - Explore core building blocks of programming, focusing on variables, data structures, and their manipulation\n",
    "2. K-Means from scratch - Build an unsupervised learning algorithm step by step\n",
    "\n",
    "**Rules**\n",
    "- <ins>You can only use packages from the Python Standard Library (built-in), namely https://docs.python.org/3/library/ (this means no pandas, numpy, scikit-learn, etc.)</ins>\n",
    "- Make sure that you don't have errors in your code. If you don't know how to do a specific question, leave it as it was. You should do a clean run all, in the end, to make sure all cells run without errors\n",
    "- You should limit your code to fill the question function and an extra block for testing. Please avoid creating many code blocks\n",
    "- Make sure your notebook name is unchanged from `python_assignment`\n",
    "- Make sure that you save the requested contents in a folder named accordingly to the rules: `<student_number>_<firstname>_<lastname>`\n",
    "- Make sure to zip your final folder\n",
    "- Students might be called for an oral examination might if suspected of cheating **(e.g. heavy use of ChatGPT or other Generative AI Solution)**\n",
    "\n",
    "## Grading\n",
    "\n",
    "- This assignment will be graded from 0 to 20 points\n",
    "- The assignment is worth 40% (8.00 values) of your final grade\n",
    "- Each question has its corresponding score associated, e.g. `Q1 [1.0p]`\n",
    "- Each question will be automatically validated against a set of scenarios and graded accordingly\n",
    "- If your code does not run (e.g. you click *run all* and errors are raised in one or more questions), there will be a penalty of 0.5 points per error\n",
    "- Questions that raise errors by default will not be graded\n",
    "- A penalty of 1.0 points will be applied per day late to late deliveries\n",
    "\n",
    "\n",
    "## Delivery\n",
    "- Deadline: **18 April 2024 23:59:59**\n",
    "- Format: `.zip`\n",
    "- Name: `<student_number>_<firstname>_<lastname>`\n",
    "- You should deliver the following contents:\n",
    "    - `python_assignment.ipynb` - Your jupyter notebook assignment solved\n",
    "    - `python_assignment.html` - A PDF HTML export of notebook that you can get by going to `File > Download as > PDF via HTML (.html)`\n",
    "- Where: Submission is done through the respective Moodle activity\n",
    "- You should not change the name of the notebook `python_assignment`\n",
    "\n",
    "```\n",
    "# Example of good submission\n",
    "20240101_john_smith.zip\n",
    "├── python_assignment.ipynb\n",
    "├── python_assignment.html\n",
    "\n",
    "# Another example of a good submission\n",
    "# in case you zipped the folder with the content and not just the content\n",
    "20240101_john_smith.zip\n",
    "├── 20240101_john_smith\n",
    "│   └── python_assignment.ipynb\n",
    "│   └── python_assignment.html\n",
    "\n",
    "\n",
    "# Example of bad submission\n",
    "# In this example the zip name is wrong\n",
    "# And the notebook name is wrong\n",
    "# And it does not contain all elements (missing .html)\n",
    "john_smith_FINAL_FINAL_2.zip\n",
    "├── john_smith_FINAL_FINAL_2\n",
    "│   └── my_notebook.ipynb\n",
    "```\n",
    "\n",
    "\n",
    "## How to\n",
    "\n",
    "Each question consists of a function template that you have to fill in to achieve the requested solution. By making it into a function, we can automatically call your function and check it against a series of scenarios to make sure it's okay.\n",
    "\n",
    "For example:\n",
    "\n",
    "```\n",
    "# Q1: Fill the function sum_numbers(a, b) that takes two integers 'a' and 'b' and returns the sum of both.\n",
    "\n",
    "def sum_numbers(a, b):\n",
    "    pass  # your code here\n",
    "```\n",
    "\n",
    "By default, each function will have the command `pass` so that nothing will happen when the function runs (and no error is raised). You should replace it with your code. <br>\n",
    "Here's how you should complete the exercise\n",
    "\n",
    "```\n",
    "def sum_numbers(a, b):\n",
    "    sum_of_numbers = a + b\n",
    "    return sum_of_numbers\n",
    "```\n",
    "And then you can test your code\n",
    "```\n",
    "[In]: sum_numbers(3, 2)\n",
    "[Out]: 5\n",
    "```\n",
    "\n",
    "Most questions have three parts:\n",
    "1. The instruction\n",
    "2. An example\n",
    "3. Assumptions (you can take them as truth)\n",
    "\n",
    "For example, if the assumption of the above function is `a and b are always integers and > 0` then you know that in our test scenarios, we will never test it with something such as `sum_numbers(-5, 10)` or `sum_numbers(1.2, 3.5)`.\n",
    "\n",
    "---"
   ]
  },
  {
   "cell_type": "markdown",
   "id": "d6ee0113",
   "metadata": {},
   "source": [
    "## Imports\n",
    "Import any library you require here. For example, `random` is already imported for you.<br>\n",
    "Remember you are only allowed to use <ins>built-in python libraries</ins> as stated before, which can be found here: https://docs.python.org/3/library/"
   ]
  },
  {
   "cell_type": "code",
   "execution_count": 1,
   "id": "f63e06f9",
   "metadata": {},
   "outputs": [],
   "source": [
    "import random\n",
    "import math\n",
    "import datetime\n",
    "from datetime import date"
   ]
  },
  {
   "cell_type": "markdown",
   "id": "e732c62f",
   "metadata": {},
   "source": [
    "## Part I - Python Basics [10.0p]"
   ]
  },
  {
   "cell_type": "markdown",
   "id": "160d08af",
   "metadata": {},
   "source": [
    "**Q1 [0.15p]**\n",
    "\n",
    "Create the function:\n",
    "```\n",
    "def solve_equation(x)\n",
    "```\n",
    "\n",
    "that, given a number `x`, returns `y` according to the following equation:\n",
    "\\begin{equation}\n",
    "    y = 6x^2 + 3x + 2\n",
    "\\end{equation}\n",
    "\n",
    "For example:\n",
    "```\n",
    "[In]: solve_equation(2)\n",
    "[Out]: 32\n",
    "```\n",
    "\n",
    "**Assumptions:**\n",
    "- `x` is a non-empty integer or float within [-10^5, 10^5]"
   ]
  },
  {
   "cell_type": "code",
   "execution_count": 2,
   "id": "fad90529",
   "metadata": {},
   "outputs": [],
   "source": [
    "def solve_equation(x):\n",
    "    y = (6*(x**2)) + (3*x) + 2\n",
    "    return y"
   ]
  },
  {
   "cell_type": "code",
   "execution_count": 3,
   "id": "4cbbe370-7d41-4c1b-a4e1-e961c4779a4e",
   "metadata": {},
   "outputs": [
    {
     "data": {
      "text/plain": [
       "32"
      ]
     },
     "execution_count": 3,
     "metadata": {},
     "output_type": "execute_result"
    }
   ],
   "source": [
    "solve_equation(2)"
   ]
  },
  {
   "cell_type": "markdown",
   "id": "086b40a8",
   "metadata": {},
   "source": [
    "---\n",
    "**Q2 [0.15p]**\n",
    "\n",
    "Create a function:\n",
    "\n",
    "```python\n",
    "def check_odds(numbers):\n",
    "```\n",
    "\n",
    "This function takes a list `numbers`, which contains positive integers, and determines whether the count of odd numbers exceeds the count of even numbers within the list. It should return a boolean value:\n",
    "\n",
    "- Return `True` if the total count of odd numbers is greater than the total count of even numbers.\n",
    "- Return `False` otherwise, including when the counts are equal.\n",
    "\n",
    "For example:\n",
    "```python\n",
    "[In]: check_odds([1, 2, 3, 4, 5])\n",
    "[Out]: True\n",
    "```\n",
    "\n",
    "**Assumptions:**\n",
    "- The `numbers` list is non-empty.\n",
    "- Each element in `numbers` is a positive integer."
   ]
  },
  {
   "cell_type": "code",
   "execution_count": 4,
   "id": "ab8ce251",
   "metadata": {},
   "outputs": [],
   "source": [
    "def check_odds(numbers):\n",
    "    odd = 0\n",
    "    even = 0\n",
    "    for i in numbers:\n",
    "        if i % 2 != 0: # if statement for odd number\n",
    "            odd += 1\n",
    "        elif i % 2 == 0: # if statement for even number\n",
    "            even += 1\n",
    "    if odd > even: # check if odd numbers are higher than even number in the given list\n",
    "        return True\n",
    "    else:\n",
    "        return False"
   ]
  },
  {
   "cell_type": "code",
   "execution_count": 5,
   "id": "871175ea-90d0-4013-b686-ad7ddf4fae3d",
   "metadata": {},
   "outputs": [
    {
     "data": {
      "text/plain": [
       "True"
      ]
     },
     "execution_count": 5,
     "metadata": {},
     "output_type": "execute_result"
    }
   ],
   "source": [
    "check_odds([1, 2, 3, 4, 5])"
   ]
  },
  {
   "cell_type": "markdown",
   "id": "30091254",
   "metadata": {},
   "source": [
    "---\n",
    "**Q3 [0.4p]**\n",
    "\n",
    "Create the function:\n",
    "```\n",
    "generate_numbers(n)\n",
    "```\n",
    "that, given a positive integer `n` returns a list of n randomly sampled integers (allows replacement) between [-10, 10], this is -10 (inclusive) and 10 (inclusive).\n",
    "\n",
    "\n",
    "For example:\n",
    "```\n",
    "[In]: generate_numbers(5)\n",
    "[Out]: [9, 5, 0, -5, 2]\n",
    "```\n",
    "In the previous example, `n=5` returns 5 randomly sampled numbers.\n",
    "\n",
    "**Assumptions:**\n",
    "- `n` is a non-empty integer and at most 10^5"
   ]
  },
  {
   "cell_type": "code",
   "execution_count": 6,
   "id": "dff5c708",
   "metadata": {},
   "outputs": [],
   "source": [
    "def generate_numbers(n):\n",
    "    return random.choices(range(-10, 11), k=n) # random choices method to return random numbers with replacement"
   ]
  },
  {
   "cell_type": "code",
   "execution_count": 7,
   "id": "5e53f4e5-e699-433d-81f4-4079ce0bdea7",
   "metadata": {},
   "outputs": [
    {
     "data": {
      "text/plain": [
       "[8, -10, -5, 1, 8]"
      ]
     },
     "execution_count": 7,
     "metadata": {},
     "output_type": "execute_result"
    }
   ],
   "source": [
    "generate_numbers(5)"
   ]
  },
  {
   "cell_type": "markdown",
   "id": "5a65af40",
   "metadata": {},
   "source": [
    "---\n",
    "**Q4 [0.3p]**\n",
    "\n",
    "Create the function:\n",
    "```\n",
    "def update_list(numbers)\n",
    "```\n",
    "that, given a list of integers `numbers`, returns a new list that obeys to these rules: \n",
    "\n",
    "For each value in the input list:\n",
    "- if the element is even, you should add 1\n",
    "- otherwise, if the element is odd, you should subtract 1.\n",
    "\n",
    "For example:\n",
    "```\n",
    "[In]: update_list([0, 1, 2, 3])\n",
    "[Out]: [1, 0, 3, 2]\n",
    "```\n",
    "\n",
    "**Assumptions:**\n",
    "- the length of `numbers` is non-empty and at most 10^5\n",
    "- each N in `numbers` is an integer within [-10^5, 10^5]"
   ]
  },
  {
   "cell_type": "code",
   "execution_count": 8,
   "id": "b1708c43-9d45-4e70-ab8b-b7457aad8046",
   "metadata": {},
   "outputs": [],
   "source": [
    "def update_list(numbers):\n",
    "    list = [] # empty list to be filled with the loop\n",
    "    for num in numbers:\n",
    "        if num % 2 == 0:\n",
    "            list.append(num + 1) #if num is even, add 1 and append to the empty list\n",
    "        else:\n",
    "            list.append(num - 1) #if num is odd, subtract 1 and append to the empty list\n",
    "    return list"
   ]
  },
  {
   "cell_type": "code",
   "execution_count": 9,
   "id": "68ea08f3-2954-465d-a554-97890c5ba682",
   "metadata": {},
   "outputs": [
    {
     "data": {
      "text/plain": [
       "[1, 0, 3, 2]"
      ]
     },
     "execution_count": 9,
     "metadata": {},
     "output_type": "execute_result"
    }
   ],
   "source": [
    "update_list([0, 1, 2, 3])"
   ]
  },
  {
   "cell_type": "markdown",
   "id": "bac73716",
   "metadata": {},
   "source": [
    "---\n",
    "**Q5 [0.5p]**\n",
    "\n",
    "Create the function:\n",
    "```\n",
    "def get_logs10(numbers)\n",
    "```\n",
    "that, given a list of positive integer `numbers`, returns a new list where each element is the logarithm of base 10 of each value in `numbers`.\n",
    "\n",
    "For example:\n",
    "```\n",
    "[In]: get_logs10([1, 2, 3])\n",
    "[Out]: [0.0, 0.3010299956639812, 0.47712125471966244]\n",
    "```\n",
    "\n",
    "**Assumptions:**\n",
    "- the length of `numbers` is non-empty and at most 10^5\n",
    "- each N in `numbers` is an integer within [0, 10^5]\n",
    "\n",
    "*Hint: You can use the module `math` to compute the logarithm*"
   ]
  },
  {
   "cell_type": "code",
   "execution_count": 10,
   "id": "2bbd7784",
   "metadata": {},
   "outputs": [],
   "source": [
    "def get_logs10(numbers):\n",
    "    i = 0 #to specify the position of the numbers in \"numbers list\"\n",
    "    list = [] #to create an empty list to be appended with the result\n",
    "    for i in range(0, len(numbers)):\n",
    "        result = math.log10(numbers[i])\n",
    "        list.append(result)        \n",
    "        i += 1\n",
    "    return list"
   ]
  },
  {
   "cell_type": "code",
   "execution_count": 11,
   "id": "de258074-2b41-486d-8862-5c06c871acdf",
   "metadata": {},
   "outputs": [
    {
     "data": {
      "text/plain": [
       "[0.0, 0.3010299956639812, 0.47712125471966244]"
      ]
     },
     "execution_count": 11,
     "metadata": {},
     "output_type": "execute_result"
    }
   ],
   "source": [
    "get_logs10([1, 2, 3])"
   ]
  },
  {
   "cell_type": "markdown",
   "id": "1d731583",
   "metadata": {},
   "source": [
    "---\n",
    "**Q6 [0.4p]**\n",
    "\n",
    "Create the function:\n",
    "```\n",
    "def greatness_evaluator(numbers, cap)\n",
    "```\n",
    "that, given a list of integer `numbers` and an integer `cap` returns the number of elements in `numbers` that are greater than `cap`.\n",
    "\n",
    "For example:\n",
    "\n",
    "```\n",
    "[In]: greatness_evaluator(numbers=[50, 200, 300], cap=100)\n",
    "[Out]: 2\n",
    "```\n",
    "\n",
    "**Assumptions:**\n",
    "- length of `numbers` > 0\n",
    "- each N in `numbers` is an integer within [-inf, inf]\n",
    "- `cap` is an integer within [-inf, inf]"
   ]
  },
  {
   "cell_type": "code",
   "execution_count": 12,
   "id": "9d7df7c8",
   "metadata": {},
   "outputs": [],
   "source": [
    "def greatness_evaluator(numbers, cap):\n",
    "    count = 0\n",
    "    for num in numbers:\n",
    "        if num > cap:\n",
    "            count += 1 # if num is higher than cap, count it\n",
    "        else:\n",
    "            continue # if not, skip\n",
    "    return count # return the total count of num higher than cap"
   ]
  },
  {
   "cell_type": "code",
   "execution_count": 13,
   "id": "dec70424-9fdb-46d0-9664-f4f81bafa082",
   "metadata": {},
   "outputs": [
    {
     "data": {
      "text/plain": [
       "2"
      ]
     },
     "execution_count": 13,
     "metadata": {},
     "output_type": "execute_result"
    }
   ],
   "source": [
    "greatness_evaluator(numbers=[50, 200, 300], cap=100)"
   ]
  },
  {
   "cell_type": "markdown",
   "id": "9478da7c",
   "metadata": {},
   "source": [
    "---\n",
    "**Q7 [0.5p]**\n",
    "\n",
    "Create the function:\n",
    "```\n",
    "def get_stats(numbers)\n",
    "```\n",
    "that, given a list of `numbers` should return a tuple with the mean and standard-deviation value of the population of said list.\n",
    "\n",
    "\\begin{equation}\n",
    "\\mu = \\frac{1}{N}\\sum_{i=1}^{N} x_i\n",
    "\\end{equation}\n",
    "\n",
    "\\begin{equation}\n",
    "\\sigma = \\sqrt{\\frac{1}{N}\\sum_{i=1}^{N}(x_i - \\mu)^2}\n",
    "\\end{equation}\n",
    "\n",
    "\n",
    "These equations are fundamental in statistics for summarizing and understanding datasets.\n",
    "\n",
    "\n",
    "For example:\n",
    "```\n",
    "[In]: get_stats([1, 10, 5.5, 1.2, -4.2])\n",
    "[Out]: (2.7, 4.7724207693789955)\n",
    "```\n",
    "\n",
    "**Assumptions:**\n",
    "- the length of `numbers` is non-empty and at most 10^5\n",
    "- each N in `numbers` is an integer or float within [-10^5, 10^5]\n",
    "- **you use the std formula for the population (N) and not the sample (N-1)**"
   ]
  },
  {
   "cell_type": "code",
   "execution_count": 14,
   "id": "7bd4d61c-9bba-4515-8143-b4885d57e6b4",
   "metadata": {},
   "outputs": [],
   "source": [
    "def get_stats(numbers):\n",
    "    N = len(numbers)\n",
    "    total = 0\n",
    "    total_std = 0\n",
    "    for i in numbers: # for loop to calculate the mean\n",
    "        total += i        \n",
    "        mean = (total/N)\n",
    "    for j in numbers: # for loop to calculate the standard deviation\n",
    "        total_std += (j - mean)**2\n",
    "        std = math.sqrt(total_std/N)\n",
    "    return mean, std"
   ]
  },
  {
   "cell_type": "code",
   "execution_count": 15,
   "id": "2fee5edd-a1a3-42f3-9a7d-da6797c71ec1",
   "metadata": {},
   "outputs": [
    {
     "data": {
      "text/plain": [
       "(2.7, 4.7724207693789955)"
      ]
     },
     "execution_count": 15,
     "metadata": {},
     "output_type": "execute_result"
    }
   ],
   "source": [
    "get_stats([1, 10, 5.5, 1.2, -4.2])"
   ]
  },
  {
   "cell_type": "markdown",
   "id": "caa2c3e1-6804-4b44-8513-bdb2349c581a",
   "metadata": {},
   "source": [
    "---\n",
    "\n",
    "**Q8 [0.8p]**\n",
    "\n",
    "Create the function:\n",
    "\n",
    "```python\n",
    "def merge_and_sort_lists(list1, list2):\n",
    "```\n",
    "\n",
    "that, given two lists of integers `list1` and `list2`, merges these lists into one, removes any duplicates, and then sorts the merged list in ascending order. The function should return the sorted list without duplicates.\n",
    "\n",
    "For example:\n",
    "\n",
    "```python\n",
    "[In]: merge_and_sort_lists([1, 3, 5, 7], [2, 3, 4, 5, 8])\n",
    "[Out]: [1, 2, 3, 4, 5, 7, 8]\n",
    "```\n",
    "\n",
    "In this case, after merging the two lists and removing duplicates, the list is sorted from smallest to highest.\n",
    "\n",
    "**Assumptions:**\n",
    "- There is always at least one element in both lists\n",
    "- There may not be any duplicated element\n",
    "- The length of `list1` and `list2` is at most 10^5\n",
    "- Each element in `list1` and `list2` is an integer within [-10^5, 10^5]"
   ]
  },
  {
   "cell_type": "code",
   "execution_count": 16,
   "id": "d59eed57",
   "metadata": {},
   "outputs": [],
   "source": [
    "def merge_and_sort_lists(list1, list2):\n",
    "    list1.extend(list2) # to join both lists into one \n",
    "    t = set(list1) # to eliminate duplicated elements in the list\n",
    "    r = list(t) # to convert the set back to a list\n",
    "    r.sort() # to sort the merged list in ascending order\n",
    "    return r"
   ]
  },
  {
   "cell_type": "code",
   "execution_count": 17,
   "id": "4d3b79b6-9c97-4041-8ef3-de54c71f6680",
   "metadata": {},
   "outputs": [
    {
     "data": {
      "text/plain": [
       "[1, 2, 3, 4, 5, 7, 8]"
      ]
     },
     "execution_count": 17,
     "metadata": {},
     "output_type": "execute_result"
    }
   ],
   "source": [
    "merge_and_sort_lists([1, 3, 5, 7], [2, 3, 4, 5, 8])"
   ]
  },
  {
   "cell_type": "markdown",
   "id": "eb453191",
   "metadata": {},
   "source": [
    "---\n",
    "**Q9 [1.0p]**\n",
    "\n",
    "Create the function:\n",
    "```\n",
    "def max_one_digit(integers)\n",
    "```\n",
    "that, given a list `integers` consisting of N integers, returns the maximum among all one-digit integers.\n",
    "\n",
    "For example:\n",
    "```\n",
    "[In]: max_one_digit([-6, -91, 1011, -100, 84, -22, 0, 1, 473])\n",
    "[Out]: 1\n",
    "```\n",
    "\n",
    "**Assumptions:**\n",
    "- the length of `integers` is non-empty and at most 10^5\n",
    "- each N in `integers` is an integer within [-10^5, 10^5]\n",
    "- there is at least one element in the list with 1 digit\n",
    "- Negative integers with one digit, e.g. -1, also count has having only one digit"
   ]
  },
  {
   "cell_type": "code",
   "execution_count": 18,
   "id": "89ad754c",
   "metadata": {},
   "outputs": [],
   "source": [
    "def max_one_digit(integers):\n",
    "    list = [] # empty list to be appended\n",
    "    for i in integers:\n",
    "        if -9 <= i <= 9: \n",
    "            list.append(i) # if the integer is between -9 and 9, append it in the list\n",
    "        else:\n",
    "            continue # if not, skip\n",
    "    return max(list) #return the max integer with one digit appended in the list"
   ]
  },
  {
   "cell_type": "code",
   "execution_count": 19,
   "id": "7dc6b778-aeee-4976-a739-35e2b3cd629c",
   "metadata": {},
   "outputs": [
    {
     "data": {
      "text/plain": [
       "1"
      ]
     },
     "execution_count": 19,
     "metadata": {},
     "output_type": "execute_result"
    }
   ],
   "source": [
    "max_one_digit([-6, -91, 1011, -100, 84, -22, 0, 1, 473])"
   ]
  },
  {
   "cell_type": "markdown",
   "id": "a7308c5d",
   "metadata": {},
   "source": [
    "---\n",
    "**Q10 [0.8p]**\n",
    "\n",
    "Create the function:\n",
    "```\n",
    "def count_digits(numbers, start, stop)\n",
    "```\n",
    "that counts the number of digits in a subset of a list, given the following arguments:\n",
    "- `numbers`: list of integer numbers\n",
    "- `start`: start index of the subset (inclusive).\n",
    "- `stop`: final index of the subset (inclusive)\n",
    "\n",
    "For example:\n",
    "```\n",
    "[In]: count_digits(numbers=[10, -2, 0, 5, 20, 15, 18, 1], start=2, stop=4)\n",
    "[Out]: 4\n",
    "```\n",
    "The function should output the following:\n",
    "\n",
    "The function starts by selecting a subset of the list between the second and fourth indexes (`[0, 5, 20]`) and then sums the number of digits in the subset (`1 + 1 + 2`) which results in `4`.\n",
    "\n",
    "**Assumptions:**\n",
    "- the length of `numbers` is non-empty and at most 10^5\n",
    "- each N in `numbers` is an integer within [-10^5, 10^5]\n",
    "- the `start` is non-empty integer within [0, 10^5]\n",
    "- the `stop` is non-empty integer within [0, 10^5]\n",
    "- `stop` > `start`\n",
    "- `stop` <= `len(numbers)-1`"
   ]
  },
  {
   "cell_type": "code",
   "execution_count": 20,
   "id": "9b9a5ad8",
   "metadata": {},
   "outputs": [],
   "source": [
    "def count_digits(numbers, start, stop):\n",
    "    list1 = [i for i in numbers[start:stop+1]] #to select the subset (for example: [0, 5, 20])\n",
    "    list2 = [] #to create a new list with the number of digits in the subset (for example: [1, 1, 2])\n",
    "    for j in list1:\n",
    "        list2.append(len(str(abs(j)))) # to convert each number to a string and count its length\n",
    "    return sum(list2) # sum() to sum the number of digits in the subset (for example: (1 + 1 + 2))"
   ]
  },
  {
   "cell_type": "code",
   "execution_count": 21,
   "id": "1e020de0-cfce-422d-ba6e-866a75bf5aac",
   "metadata": {},
   "outputs": [
    {
     "data": {
      "text/plain": [
       "4"
      ]
     },
     "execution_count": 21,
     "metadata": {},
     "output_type": "execute_result"
    }
   ],
   "source": [
    "count_digits(numbers=[10, -2, 0, 5, 20, 15, 18, 1], start=2, stop=4)"
   ]
  },
  {
   "cell_type": "markdown",
   "id": "d804a774",
   "metadata": {},
   "source": [
    "---\n",
    "**Q11 [1.0p]**\n",
    "\n",
    "Create the function:\n",
    "```\n",
    "def xsort(numbers)\n",
    "```\n",
    "that, given a list of integer `numbers` returns a new list, following these rules:\n",
    "1. Sorts from higher to lower (desc)\n",
    "2. Sums each element with the previous one\n",
    "3. Returns the new list\n",
    "\n",
    "For example:\n",
    "\n",
    "```\n",
    "[In]: xsort([2, 3, 1, 5])\n",
    "[Out]: [5, 8, 5, 3]\n",
    "```\n",
    "1. In this case, we start by sorting the input (desc): `[5, 3, 2, 1]`\n",
    "2. Sum N with N-1: `[5+0, 3+5, 2+3, 1+2]`. Notice that you should not sum anything to the first element.\n",
    "3. Return the new list: `[5, 8, 5, 3]`\n",
    "\n",
    "**Assumptions:**\n",
    "- the length of `numbers` is non-empty and at most 10^5\n",
    "- each N in `numbers` is an integer within [-10^5, 10^5]"
   ]
  },
  {
   "cell_type": "code",
   "execution_count": 22,
   "id": "aa012342",
   "metadata": {},
   "outputs": [],
   "source": [
    "def xsort(numbers):\n",
    "    numbers.sort(reverse=True) # to sort from higher to lower (desc)\n",
    "    list1 = numbers # to create a new list with the numbers sorted\n",
    "    list2 = list(map(sum, zip(list1, [0]+list1))) # first it lists the pairs [(5, 0), (3, 5), (2, 3), (1, 2)] and second it sum the pairs with map() function \n",
    "    return list2"
   ]
  },
  {
   "cell_type": "code",
   "execution_count": 23,
   "id": "fc19ead2-3b0e-4826-b6a9-e347d96f81dd",
   "metadata": {},
   "outputs": [
    {
     "data": {
      "text/plain": [
       "[5, 8, 5, 3]"
      ]
     },
     "execution_count": 23,
     "metadata": {},
     "output_type": "execute_result"
    }
   ],
   "source": [
    "xsort([2, 3, 1, 5])"
   ]
  },
  {
   "cell_type": "markdown",
   "id": "5b989510",
   "metadata": {},
   "source": [
    "---\n",
    "**Q12 [1.0p]**\n",
    "\n",
    "Create the function:\n",
    "```\n",
    "def difference_in_days(start_date, end_date)\n",
    "```\n",
    "that, given a string `start_date` and a string `end_date`, computes and returns an integer that is the difference in days between the two dates. For this exercise, we will include the end date in calculation (add 1 day).<br>\n",
    "Note that the inputs are both strings in format `year-month-day`, e.g. `2023-01-25` is 25 January 2023. \n",
    "\n",
    "For example:\n",
    "```\n",
    "[In]: difference_in_days(\"2023-01-01\", \"2023-01-05\")\n",
    "[Out]: 5\n",
    "```\n",
    "In the previous example, 5 days elapsed between the January 5 (inclusive) and January 1 (inclusive).<br>\n",
    "Let's take a look at a different example:\n",
    "```\n",
    "[In]: difference_in_days(\"2023-02-10\", \"2023-03-10\")\n",
    "[Out]: 29\n",
    "```\n",
    "\n",
    "**Assumptions:**\n",
    "- both `start_date` and `end_date` are non-empty strings\n",
    "- the `end_date` is always after or equal to the `start_date`\n",
    "- both dates are in format `year-month-day`, e.g. `2023-01-25`\n",
    "- the year in both strings has 4 digits\n",
    "- the month in both strings has 2 digits\n",
    "- the day in both strings has 2 digits"
   ]
  },
  {
   "cell_type": "code",
   "execution_count": 24,
   "id": "4b9318cc",
   "metadata": {},
   "outputs": [],
   "source": [
    "def difference_in_days(start_date, end_date):\n",
    "    d1 = date.fromisoformat(start_date) # to convert date string to a datetime object \n",
    "    d2 = date.fromisoformat(end_date) + datetime.timedelta(days=1) # to convert date string to a datetime object and add 1 day\n",
    "    if d2 >= d1:\n",
    "        delta = d2 - d1 \n",
    "    return delta.days # to return only the number of days of the difference between the two dates"
   ]
  },
  {
   "cell_type": "code",
   "execution_count": 25,
   "id": "29f2f894-2c5f-4e51-b04b-f6359e28f615",
   "metadata": {},
   "outputs": [
    {
     "data": {
      "text/plain": [
       "29"
      ]
     },
     "execution_count": 25,
     "metadata": {},
     "output_type": "execute_result"
    }
   ],
   "source": [
    "difference_in_days('2023-02-10', '2023-03-10')"
   ]
  },
  {
   "cell_type": "markdown",
   "id": "48e72891",
   "metadata": {},
   "source": [
    "---\n",
    "**Q13 [1.5p]**\n",
    "\n",
    "Create a function called \"ruin_string\" that takes a string \"my_string\" as an argument.\n",
    "The function should return a new string without duplicate characters, in reverse. You should start by first removing the duplicate characters (keep first occurence) and afterwards, reverse the string. \n",
    "\n",
    "For example, \"hello\" becomes \"helo\" after removing the duplicate \"l\". When reversed, it becomes \"oleh\".\n",
    "\n",
    "Example:\n",
    "```\n",
    "[In]: ruin_string(\"hello\")\n",
    "[Out]: \"oleh\"\n",
    "```\n",
    "Another example:\n",
    "```\n",
    "[In]: ruin_string(\"The answer to the ultimate question of life, the universe, and everything is 42.\")\n",
    "[Out]: \".24gydv,fqmiluotrwsna ehT\"\n",
    "```\n",
    "\n",
    "**Assumptions:**\n",
    "- `my_string` is a non-empty string\n",
    "- the characters in `my_string` are ASCII characters (i.e., their ordinal values are between 0 and 127). That includes numbers and punctuation\n",
    "- uppercase and lowercase characters account for different chars. For example, character `A` is different than `a`"
   ]
  },
  {
   "cell_type": "code",
   "execution_count": 26,
   "id": "ccdcec74",
   "metadata": {},
   "outputs": [],
   "source": [
    "def ruin_string(my_string):\n",
    "    x = ''.join(reversed(sorted(set(my_string), key=my_string.index))) # set to remove duplicates, sorted to organize the letters, \n",
    "    # join to join the letters into a string and reversed to revert the order\n",
    "    return x"
   ]
  },
  {
   "cell_type": "code",
   "execution_count": 27,
   "id": "a35cfad4-4291-43bc-83dd-05796ca7b21e",
   "metadata": {},
   "outputs": [
    {
     "data": {
      "text/plain": [
       "'oleh'"
      ]
     },
     "execution_count": 27,
     "metadata": {},
     "output_type": "execute_result"
    }
   ],
   "source": [
    "ruin_string(\"hello\")"
   ]
  },
  {
   "cell_type": "code",
   "execution_count": 28,
   "id": "08454a8c-5448-4c07-854d-56d406a6c8b6",
   "metadata": {},
   "outputs": [
    {
     "data": {
      "text/plain": [
       "'.24gydv,fqmiluotrwsna ehT'"
      ]
     },
     "execution_count": 28,
     "metadata": {},
     "output_type": "execute_result"
    }
   ],
   "source": [
    "ruin_string(\"The answer to the ultimate question of life, the universe, and everything is 42.\")"
   ]
  },
  {
   "cell_type": "markdown",
   "id": "957d137f",
   "metadata": {},
   "source": [
    "---\n",
    "**Q14 [1.5p]**\n",
    "\n",
    "Create the function:\n",
    "```\n",
    "def find_duplicates(nums)\n",
    "```\n",
    "that, given a list of integers `nums`, returns a list of all integers that appear more than once in the list, sorted from smallest to highest.\n",
    "\n",
    "For example:\n",
    "```\n",
    "[In]: find_duplicates([4, 3, 2, 7, 8, 2, 3, 1])\n",
    "[Out]: [2, 3]\n",
    "```\n",
    "In this case, the integers 2 and 3 appear more than once in the list, so they are included in the output list.\n",
    "\n",
    "**Assumptions:**\n",
    "- the length of `nums` is non-empty and at most 10^5\n",
    "- each N in `nums` is an integer within [-10^5, 10^5]"
   ]
  },
  {
   "cell_type": "code",
   "execution_count": 29,
   "id": "e92c633c",
   "metadata": {},
   "outputs": [],
   "source": [
    "def find_duplicates(nums):\n",
    "    unique_list = [] # empty list to be appended with unique numbers from \"nums\"\n",
    "    duplicated_list = [] # empty list to be appended with duplicated numbers from \"nums\"\n",
    "    for i in nums:\n",
    "        if i not in unique_list:\n",
    "            unique_list.append(i) # to append integer from \"nums\"\n",
    "        else:\n",
    "            duplicated_list.append(i) # if the integer is already in the unique list, then append it to the duplicated list\n",
    "    return sorted(duplicated_list) # return the duplicated list sorting in ascending order"
   ]
  },
  {
   "cell_type": "code",
   "execution_count": 30,
   "id": "f41a167c-4161-45b0-89e9-1c16ca6be3be",
   "metadata": {},
   "outputs": [
    {
     "data": {
      "text/plain": [
       "[2, 3]"
      ]
     },
     "execution_count": 30,
     "metadata": {},
     "output_type": "execute_result"
    }
   ],
   "source": [
    "find_duplicates([4, 3, 2, 7, 8, 2, 3, 1])"
   ]
  },
  {
   "cell_type": "markdown",
   "id": "262e0e25",
   "metadata": {},
   "source": [
    "---\n",
    "## Part II - KMeans from scratch! [10p]\n",
    "\n",
    "K-Means is one of the most popular \"clustering\" algorithms, which you perhaps are already familiar with from Data Mining or Machine Learning curricular units. <br> \n",
    "K-means estimates the location of $k$ centroids that represent the typical value in each cluster. In that sense, an observation is considered to be part of a particular cluster if it is closer to that cluster's centroid than to any other centroid.\n",
    "\n",
    "The K-means algorithm is iterative and can be summarized as follows:\n",
    "1. Start by choosing value K (number of clusters) that defines the number of clusters;\n",
    "2. Initialize the locations of the centroids, which we can do by randomly selecting K points from your dataset as initial locations of the centroids;\n",
    "3. Calculate the distance of all other points to each of the K centroids;\n",
    "4. Associate each point to the cluster of the closest centroid;\n",
    "5. Update the centroid position, by computing the average coordinates of all points assigned to each cluster;\n",
    "6. Evaluate the average change in the positions of the centroids, as a measure of convergence (we assume the algorithm converged to the solution when the positions of the centroids don't change more than a given tolerance threshold);\n",
    "7. Repeat steps 3-6 until either the centroids no longer move more than a tolerance threshold or until you repeated these steps at least for a specified number of iterations (max_iter)\n",
    "\n",
    "The algorithm is thus parameterized by the number of clusters (k), the maximum number of iterations (max_iter), and the tolerance threshold (tol).\n",
    "\n",
    "**Important keywords:**\n",
    "- **points/data**: data point coordinates `(e.g.: [[0, 0.9], [0.3, 0.5], [0.8, 0.75], [0.1, 0.1]])`\n",
    "- **centroids**: center of each cluster `(e.g.: [[0.5, 0.5], [0.8, 0.9]])`\n",
    "- **clusters**: cluster index of each point `(e.g.: [0, 0, 1, 0])`"
   ]
  },
  {
   "cell_type": "markdown",
   "id": "aca3a4b5",
   "metadata": {},
   "source": [
    "### 2.1. Generate Initial Seeds [1.0p]\n",
    "\n",
    "Create the function:\n",
    "\n",
    "```python\n",
    "def generate_initial_seeds(data, k):\n",
    "    pass\n",
    "```\n",
    "\n",
    "that, given a dataset `data` as a list of lists, where each inner list represents a data point with its features (e.g., `[[1.0, 2.0], [1.5, 1.8], [5.0, 8.0], [8.0, 8.0]]`), and an integer `k` representing the number of clusters, generates `k` initial seed points randomly from the data. The function should return a list of `k` initial seed points, each of which is a list representing the features of that seed.\n",
    "\n",
    "For example:\n",
    "\n",
    "```python\n",
    "data = [[1.0, 2.0], [1.5, 1.8], [5.0, 8.0], [8.0, 8.0]]\n",
    "k = 2\n",
    "print(generate_initial_seeds(data, k))\n",
    "```\n",
    "\n",
    "This might output something like:\n",
    "\n",
    "```python\n",
    "[[5.0, 8.0], [1.5, 1.8]]\n",
    "```\n",
    "\n",
    "assuming the randomly chosen initial seeds correspond to the data points `[5.0, 8.0]` and `[1.5, 1.8]`. **Note that the actual output may vary due to the randomness unless a specific seed is set for the random number generator.**\n",
    "\n",
    "**Assumptions:**\n",
    "- `data` is a non-empty list of lists, where each inner list has the same length representing the features of a data point\n",
    "- `k` is a positive integer less than or equal to the number of data points in `data`\n",
    "- Use Python's `random` module to select random initial seeds"
   ]
  },
  {
   "cell_type": "code",
   "execution_count": 31,
   "id": "6fde59af",
   "metadata": {},
   "outputs": [],
   "source": [
    "def generate_initial_seeds(data, k):\n",
    "    if 0 < k <= len(data): # to determine that k is a positive integer less than or equal to the number of data points in data\n",
    "        initial_seeds = random.sample(data, k=k) # to generate a random sample from the dataset (data) without replacement, with the number of clusters given (k)\n",
    "        return initial_seeds\n",
    "    else: # if k isn't a positive integer or higher than data points, it will output the string below\n",
    "        print(\"k must be a positive integer less than or equal to the number of data points in data\")"
   ]
  },
  {
   "cell_type": "code",
   "execution_count": 32,
   "id": "ad46b7c5-f3db-4406-972c-5fb0a7459838",
   "metadata": {},
   "outputs": [
    {
     "name": "stdout",
     "output_type": "stream",
     "text": [
      "[[1.0, 2.0], [1.5, 1.8]]\n"
     ]
    }
   ],
   "source": [
    "data = [[1.0, 2.0], [1.5, 1.8], [5.0, 8.0], [8.0, 8.0]]\n",
    "k = 2\n",
    "print(generate_initial_seeds(data, k))"
   ]
  },
  {
   "cell_type": "markdown",
   "id": "e85b562c",
   "metadata": {},
   "source": [
    "### 2.2. Compute Euclidean Distance [1.5p]\n",
    "\n",
    "Create the function:\n",
    "\n",
    "```python\n",
    "def euclidean_distance(point1, point2):\n",
    "    pass\n",
    "```\n",
    "\n",
    "that, given two points `point1` and `point2` as lists of coordinates, calculates and returns the Euclidean distance between these two points. The Euclidean distance is defined as the square root of the sum of the squared differences between the corresponding coordinates of the points.\n",
    "\n",
    "\\begin{equation}\n",
    "    d(p1, p2) = \\sqrt{\\sum_{i=0}^{D} (xi-yi)^2}\n",
    "\\end{equation}\n",
    "where $p1 = (x1,x2,...,x_{D-1}, x_D)$ and $p_2 = (y1,y2,...,y_{D-1},y_D)$.\n",
    "\n",
    "For example:\n",
    "\n",
    "```python\n",
    "distance = euclidean_distance([3, 5], [1, 9])\n",
    "print(distance)\n",
    "```\n",
    "\n",
    "This should output `4.47213595499958`, which is the Euclidean distance between the points (3, 5) and (1, 9), which is calculated as \n",
    "\\begin{equation}\\sqrt{(3-1)^2 + (5-9)^2}\\\n",
    "\\end{equation}\n",
    "\n",
    "**Assumptions:**\n",
    "- `point1` and `point2` are non-empty lists of numerical values (integers or floats) and have the same length, representing coordinates in a multidimensional space.\n",
    "- Coordinates are real numbers.\n",
    "- The function should handle points in any dimensional space (e.g., 2D, 3D)"
   ]
  },
  {
   "cell_type": "code",
   "execution_count": 33,
   "id": "48c1d035",
   "metadata": {},
   "outputs": [],
   "source": [
    "def euclidean_distance(points1, points2):\n",
    "    if len(points1) and len(points2) % 2 == 0: # for 2D point (when the lenght of each point is divided by 2)\n",
    "        sqrs = (points1[0] - points2[0])**2 + (points1[1] - points2[1])**2 \n",
    "    elif len(points1) and len(points2) % 3 == 0: # for 3D point (when the lenght of each point is divided by 3)\n",
    "        sqrs = (points1[0] - points2[0])**2 + (points1[1] - points2[1])**2 + (points1[2] - points2[2])**2\n",
    "    euc_dist = math.sqrt(sqrs)\n",
    "    return euc_dist"
   ]
  },
  {
   "cell_type": "code",
   "execution_count": 34,
   "id": "dde9a3ba-e95e-45d5-99a2-105fc66ffb4e",
   "metadata": {},
   "outputs": [
    {
     "name": "stdout",
     "output_type": "stream",
     "text": [
      "4.47213595499958\n"
     ]
    }
   ],
   "source": [
    "distance = euclidean_distance([3, 5], [1, 9])\n",
    "print(distance)"
   ]
  },
  {
   "cell_type": "markdown",
   "id": "02e5bb21",
   "metadata": {},
   "source": [
    "### 2.3. Assign Points to the Nearest Cluster [2.5p]\n",
    "\n",
    "Create the function:\n",
    "\n",
    "```python\n",
    "def assign_clusters(data, centroids):\n",
    "    pass\n",
    "```\n",
    "\n",
    "that, given a list of data points `data` and a list of centroids `centroids`, assigns each point in `data` to the nearest centroid. The function should return a list of indices, where each index corresponds to the centroid in `centroids` that is closest to the given data point. __Use the Euclidean distance to determine the closest centroid.__\n",
    "\n",
    "For example:\n",
    "\n",
    "```python\n",
    "data = [[1.0, 2.0], [1.5, 2.5], [5.0, 8.0], [8.0, 8.0]]\n",
    "centroids = [[1.0, 2.0], [5.0, 8.0]]\n",
    "print(assign_clusters(data, centroids))\n",
    "```\n",
    "\n",
    "This should output a list of indices:\n",
    "\n",
    "```python\n",
    "[0, 0, 1, 1]\n",
    "```\n",
    "\n",
    "In this example, the first two data points are closer to the first centroid (`[1.0, 2.0]`), and the last two data points are closer to the second centroid (`[5.0, 8.0]`), hence the output `[0, 0, 1, 1]`.\n",
    "\n",
    "**Assumptions:**\n",
    "- `data` and `centroids` are lists of lists, where each inner list represents the coordinates of a point in a multidimensional space.\n",
    "- All points in `data` and `centroids` are lists of the same length, representing coordinates in the same dimensional space.\n",
    "- The function should handle an arbitrary number of dimensions for the points and centroids.\n",
    "- Use the Euclidean distance function implemented in the previous exercise to calculate distances."
   ]
  },
  {
   "cell_type": "code",
   "execution_count": 35,
   "id": "5ea959df-0fb2-471f-8679-271d0807ae8b",
   "metadata": {},
   "outputs": [],
   "source": [
    "def assign_clusters(data, centroids):\n",
    "    cluster_list = [] # empty list to be appended with the clusters indices\n",
    "    for i in range(len(data)): # to iterate over the data\n",
    "        min_dist = float('inf') # considering the max distance possible, to reach the min distance with the for loop and get the closest centroid\n",
    "        min_index = 0           # (they are inside data loop to reset the distance and index for each loop and return the right answer)\n",
    "        for j in range(len(centroids)): # to iterate over the centroid\n",
    "            new_dist = euclidean_distance(data[i], centroids[j]) # using the euclidean_distance function to calculate the distances between data and centroids\n",
    "            if new_dist < min_dist: # if new_dist is lower than min_dist(infinity), replace it for the new_dist\n",
    "                min_dist = new_dist  # iterate new_dist and replace it until it finds the lower distance\n",
    "                min_index = j # replace min_index = 0 to the index from the iteration\n",
    "        cluster_list.append(min_index) # append the index of centroids to the empty list\n",
    "    return cluster_list"
   ]
  },
  {
   "cell_type": "code",
   "execution_count": 36,
   "id": "d56233e9-fc4a-4737-be32-8fac7fe69ba6",
   "metadata": {},
   "outputs": [
    {
     "name": "stdout",
     "output_type": "stream",
     "text": [
      "[0, 0, 1, 1]\n"
     ]
    }
   ],
   "source": [
    "data = [[1.0, 2.0], [1.5, 2.5], [5.0, 8.0], [8.0, 8.0]]\n",
    "centroids = [[1.0, 2.0], [5.0, 8.0]]\n",
    "print(assign_clusters(data, centroids))"
   ]
  },
  {
   "cell_type": "markdown",
   "id": "0c5ac6b8",
   "metadata": {},
   "source": [
    "### 2.4. Compute New Centroids [2.5p]\n",
    "\n",
    "Create the function:\n",
    "\n",
    "```python\n",
    "def compute_centroids(data, assignments, k):\n",
    "    pass\n",
    "```\n",
    "\n",
    "that, given a list of data points `data`, a list of cluster assignments `assignments`, and the number of clusters `k`, computes the new centroids of the clusters. The function should return a list of the new centroids, where __each centroid is the mean (average) of the points assigned to that cluster__.\n",
    "\n",
    "For example:\n",
    "\n",
    "```python\n",
    "data = [[1.0, 2.0], [1.5, 2.5], [5.0, 8.0], [8.0, 8.0]]\n",
    "assignments = [0, 0, 1, 1]\n",
    "k = 2\n",
    "print(compute_centroids(data, assignments, k))\n",
    "```\n",
    "\n",
    "This should output the new centroids:\n",
    "\n",
    "```python\n",
    "[[1.25, 2.25], [6.5, 8.0]]\n",
    "```\n",
    "\n",
    "In this example, the first two data points are assigned to cluster 0, and their average coordinates are `[1.25, 2.25]`, making this the new centroid for cluster 0. Similarly, the last two data points are assigned to cluster 1, with their average coordinates `[6.5, 8.0]` serving as the new centroid for cluster 1.\n",
    "\n",
    "**Assumptions:**\n",
    "- `data` is a list of lists, where each inner list represents the coordinates of a point in a multidimensional space.\n",
    "- `assignments` is a list of integers where each integer is the index of the centroid in `centroids` that the corresponding point in `data` is closest to.\n",
    "- `k` is a positive integer representing the number of clusters.\n",
    "- All points in `data` are lists of the same length, representing coordinates in the same dimensional space.\n",
    "- The function should correctly handle an arbitrary number of dimensions for the points."
   ]
  },
  {
   "cell_type": "code",
   "execution_count": 37,
   "id": "fea274ec-f763-4993-b471-9b8a57c6e39a",
   "metadata": {},
   "outputs": [],
   "source": [
    "def compute_centroids(data, assignments, k):\n",
    "    new_ctds = []  # empty list to be appended with the new_centroids\n",
    "    for i in range(k):  # iterate over each cluster index\n",
    "        cluster_points = []  # empty list to be appended with current clusters\n",
    "        for j in range(len(data)): # iterate over each data point index\n",
    "            if assignments[j] == i: # if the assignment is equal to the cluster index\n",
    "                cluster_points.append(data[j]) # append the corresponding data point to the list\n",
    "    # from the example given, the cluster_points would be:\n",
    "        # for index 0: [1.0, 2.0], [1.5, 2.5]\n",
    "        # for index 1: [5.0, 8.0], [8.0, 8.0]\n",
    "        \n",
    "        sums = [0] * len(data[0]) # start with a list of zeros for the dimension in data by multiplying zero for the lenght of the point in data, i.e. [0, 0] (for 2D)\n",
    "        for point in cluster_points: \n",
    "            for sums_index in range(len(point)):  # for each point in cluster_points, iterate over each sums index [0] and [1]\n",
    "                sums[sums_index] += point[sums_index]\n",
    "    # from the example given: \n",
    "        # for index 0, point 1 [1.0, 2.0]: sums[0] += point[0] -> sums[0] = 0 + 1.0 = 1.0\n",
    "        #                                  sums[1] += point[1] -> sums[1] = 0 + 2.0 = 2.0\n",
    "        # for index 0, point 2 [1.5, 2.5]: sums[0] += point[0] -> sums[0] = 0 + 1.5 = 1.5\n",
    "        #                                  sums[1] += point[1] -> sums[1] = 0 + 2.5 = 2.5\n",
    "        # finally: [1.0 + 1.5, 2.0 + 2.5] = [2.5, 4.5]\n",
    "        # same for index 1, points 1 and 2 -> result [13.0, 16.0]        \n",
    "            \n",
    "        new_ctd = []\n",
    "        for s in sums:\n",
    "            mean = s / len(cluster_points)\n",
    "            new_ctd.append(mean)\n",
    "    # from the example given:\n",
    "        # for index 0: [2.5/2, 4.5/2] = [1.25, 2.25]\n",
    "        # for index 1: [13.0/2, 16.0/2] = [6.5, 8.0]\n",
    "        # append the means to the empty list \"new_centroid\"\n",
    "            \n",
    "        new_ctds.append(new_ctd) # append both indices to the new empty list (new_centroids)\n",
    "    return new_ctds"
   ]
  },
  {
   "cell_type": "code",
   "execution_count": 38,
   "id": "07c6416a-5fc7-419c-a384-757e692c855e",
   "metadata": {},
   "outputs": [
    {
     "name": "stdout",
     "output_type": "stream",
     "text": [
      "[[1.25, 2.25], [6.5, 8.0]]\n"
     ]
    }
   ],
   "source": [
    "data = [[1.0, 2.0], [1.5, 2.5], [5.0, 8.0], [8.0, 8.0]]\n",
    "assignments = [0, 0, 1, 1]\n",
    "k = 2\n",
    "print(compute_centroids(data, assignments, k))"
   ]
  },
  {
   "cell_type": "markdown",
   "id": "1ef77994",
   "metadata": {},
   "source": [
    "### 2.5. Implement the KMeans Algorithm [1.5p]\n",
    "\n",
    "Implement the `KMeans` class with the following methods:\n",
    "\n",
    "1. `__init__(self, k, max_iters)`: Constructor for the class. It should initialize the `k` number of clusters, `max_iters` as the maximum number of iterations for the algorithm, and set `self.centroids` to `None`.\n",
    "\n",
    "2. `fit(self, data)`: This method should fit the KMeans model to the `data`. It involves generating initial seeds for centroids, then iteratively assigning data points to the nearest centroids and updating the centroids based on the current assignments until convergence or reaching the maximum number of iterations. After fitting, you should update `self.centroids` to contain the final centroids.\n",
    "\n",
    "3. `get_labels(self, data)`: After fitting the model to the data, this method should return the cluster assignments using the `_assign_clusters` method of the `data` as a list of integers, where each integer represents the index of the centroid in `self.centroids` that the corresponding data point is closest to.\n",
    "\n",
    "For example:\n",
    "\n",
    "```python\n",
    "# Assuming all necessary methods are properly implemented\n",
    "kmeans = KMeans(k=2, max_iters=100)\n",
    "data = [[1.0, 2.0], [1.5, 2.5], [5.0, 8.0], [8.0, 8.0]]\n",
    "kmeans.fit(data)\n",
    "print(kmeans.get_labels(data))\n",
    "```\n",
    "\n",
    "This should output the cluster assignments for each data point, like:\n",
    "\n",
    "```python\n",
    "[0, 0, 1, 1]\n",
    "```\n",
    "\n",
    "It's important to note that in this example, the output might be different due to randomness, it could be something like `[1, 1, 0, 0]`\n",
    "\n",
    "\n",
    "**How to fill the class**\n",
    "- To help you with this exercise, the private class methods have already been created. You just need to copy your code inside each method. For example, in `_euclidean_distance` you should place the code you wrote in `euclidean_distance` inside.\n",
    "- In the `fit` and `get_labels` methods, to access the class attributes you can use `self.<what you want to use>`, for example, if you want to access the number of clusters, you can use `self.k`. If you want to use an existing private method, such as `_euclidean_distance`, you should use `self._euclidean_distance`\n",
    "\n",
    "\n",
    "**Assumptions:**\n",
    "- `data` is a list of lists, where each inner list represents the coordinates of a point in a multidimensional space.\n",
    "- All points in `data` are lists of the same length, representing coordinates in the same dimensional space.\n",
    "- The `fit` method should utilize the Euclidean distance for determining the closest centroid.\n",
    "- The `fit` method should use the previously implemented `generate_initial_seeds`, `assign_clusters`, and `compute_centroids` functions to perform the clustering.\n",
    "- Ensure that the algorithm handles an arbitrary number of dimensions for the data points and centroids.\n",
    "\n",
    "---"
   ]
  },
  {
   "cell_type": "code",
   "execution_count": 39,
   "id": "1111e0dc",
   "metadata": {},
   "outputs": [
    {
     "name": "stdout",
     "output_type": "stream",
     "text": [
      "[1, 1, 0, 0]\n"
     ]
    }
   ],
   "source": [
    "class KMeans:\n",
    "\n",
    "    def __init__(self, k=2, max_iters=100):\n",
    "        self.k = k # represents the number of clusters\n",
    "        self.max_iters = max_iters # represents the maximum number of iterations\n",
    "        self.centroids = None # represents the final centroids, to be found in fit method\n",
    "\n",
    "    def fit(self, data): # fit the KMeans model to the data\n",
    "        centroids = self._generate_initial_seeds(data, self.k) # generate initial centroids based on the data and number of clusters\n",
    "        for r in range(self.max_iters): # iterate over the maximum number of iterations (from the example given: 100)\n",
    "            clusters = self._assign_clusters(data, centroids) # assign each data point to the nearest centroid, forming clusters\n",
    "            new_centroids = self._compute_centroids(data, clusters, self.k) # calculate new centroids based on the data points assigned to each cluster \n",
    "            if centroids == new_centroids: # if centroids is equal to new_centroids we found it, so break \n",
    "                break\n",
    "            else:                          # if not, convert centroids to the new_centroids results until they are equal to break the iteration\n",
    "                centroids = new_centroids  \n",
    "        self.centroids = centroids # when iteration finishes, update self.centroids to contain the final centroids\n",
    "        return centroids # return final centroids\n",
    "\n",
    "    def get_labels(self, data): # return the cluster assignments\n",
    "        if self.centroids is None: # in case self.centroids is still none, and have not been replaced\n",
    "            print(\"Please, check if fit() function has been called, as centroids are still None\")\n",
    "        else: # if fit() function has been called correctly, apply assign_clusters method\n",
    "            labels = self._assign_clusters(data, self.centroids)\n",
    "        return labels\n",
    "\n",
    "    @staticmethod\n",
    "    def _generate_initial_seeds(data, k):\n",
    "        if 0 < k <= len(data): \n",
    "            initial_seeds = random.sample(data, k=k)\n",
    "            return initial_seeds\n",
    "        else:\n",
    "            print(\"k must be a positive integer less than or equal to the number of data points in data\")\n",
    "\n",
    "    @staticmethod\n",
    "    def _euclidean_distance(points1, points2):\n",
    "        if len(points1) and len(points2) % 2 == 0: #for 2D point\n",
    "            sqrs = (points1 [0] - points2 [0])**2 + (points1[1] - points2[1])**2\n",
    "        elif len(points1) and len(points2) % 3 == 0: #for 3D point\n",
    "            sqrs = (points1 [0] - points2 [0])**2 + (points1[1] - points2[1])**2 + (points1[2] - points2[2])**2\n",
    "        euc_dist = sqrs**0.5\n",
    "        return euc_dist\n",
    "\n",
    "    @staticmethod\n",
    "    def _assign_clusters(data, centroids):\n",
    "        cluster_list = []\n",
    "        for i in range(len(data)):\n",
    "            min_dist = float('inf')\n",
    "            min_index = 0\n",
    "            for j in range(len(centroids)):\n",
    "                new_dist = euclidean_distance(data[i], centroids[j])\n",
    "                if new_dist < min_dist: \n",
    "                    min_dist = new_dist\n",
    "                    min_index = j\n",
    "            cluster_list.append(min_index)\n",
    "        return cluster_list\n",
    "\n",
    "    @staticmethod\n",
    "    def _compute_centroids(data, assignments, k):\n",
    "        new_ctds = []\n",
    "        for i in range(k):\n",
    "            cluster_points = []\n",
    "            for j in range(len(data)):\n",
    "                if assignments[j] == i:\n",
    "                    cluster_points.append(data[j])\n",
    "                    \n",
    "            sums = [0] * len(data[0])\n",
    "            for point in cluster_points: \n",
    "                for sums_index in range(len(point)):\n",
    "                    sums[sums_index] += point[sums_index]\n",
    "            \n",
    "            new_ctd = []\n",
    "            for s in sums:\n",
    "                mean = s / len(cluster_points)\n",
    "                new_ctd.append(mean)\n",
    "            \n",
    "            new_ctds.append(new_ctd)\n",
    "        return new_ctds\n",
    "\n",
    "# Assuming all necessary methods are properly implemented\n",
    "kmeans = KMeans(k=2, max_iters=100)\n",
    "data = [[1.0, 2.0], [1.5, 2.5], [5.0, 8.0], [8.0, 8.0]]\n",
    "kmeans.fit(data)\n",
    "print(kmeans.get_labels(data))"
   ]
  },
  {
   "cell_type": "markdown",
   "id": "3e0fa325-3e54-4dc2-b3f7-8e0762a09dd1",
   "metadata": {},
   "source": [
    "### 2.6. Read test data [1.0p]\n",
    "\n",
    "Create the function:\n",
    "\n",
    "```python\n",
    "def read_data(path):\n",
    "    pass\n",
    "```\n",
    "\n",
    "that, given a path to a text file (.txt) read it's contents into a list of lists (or list of tuples if you prefer). You can test your function with the text file named `data.txt` that was given with this assignment.\n",
    "\n",
    "**Remember that you cannot use Pandas for this task.**\n",
    "\n",
    "For example:\n",
    "\n",
    "```python\n",
    "test_data = read_data(\"data.txt\")\n",
    "print(test_data[:5])  # first 5 elements\n",
    "```\n",
    "\n",
    "Would return:\n",
    "```python\n",
    "[[502, 505], [504, 489], [515, 514], [496, 498], [505, 501]]\n",
    "```"
   ]
  },
  {
   "cell_type": "code",
   "execution_count": 40,
   "id": "d618b426",
   "metadata": {},
   "outputs": [],
   "source": [
    "def read_data(path):\n",
    "    with open(path, 'r') as file: # to open the file in read mode\n",
    "        data = [] # empty list to be appended with integer values from both for loops\n",
    "        for line in file: # for each line in the file\n",
    "            values = line.strip().split(',') # remove blank space (if it exists) and separate values in the same line by comma\n",
    "            list = [] # empty list to be appended with integer values from 2nd for loop\n",
    "            for value in values:\n",
    "                list.append(int(value)) # for each line in data, convert them into an integer and append them in list\n",
    "            data.append(list) # append each iteration result into one unique list (data)\n",
    "        return data"
   ]
  },
  {
   "cell_type": "code",
   "execution_count": 41,
   "id": "c0ff630f-3d5b-4612-b7d0-9392375ec048",
   "metadata": {},
   "outputs": [
    {
     "name": "stdout",
     "output_type": "stream",
     "text": [
      "[[502, 505], [504, 489], [515, 514], [496, 498], [505, 501]]\n"
     ]
    }
   ],
   "source": [
    "test_data = read_data(\"data.txt\")\n",
    "print(test_data[:5])  # first 5 elements"
   ]
  },
  {
   "cell_type": "markdown",
   "id": "7ab22e27-57da-411a-955e-cc7bc223e4a6",
   "metadata": {},
   "source": [
    "### 2.7. Visualize the output! [0.0p]\n",
    "\n",
    "Test your KMeans algorithm in the test data. Use 2 clusters and 100 maximum interactions. Then, visualize your results, it should be pretty clear if your algorithm is working correctly: You'll have two distinct groups with the centroids well positioned.\n",
    "\n",
    "```python\n",
    "kmeans = KMeans(k=2, max_iters=100)\n",
    "kmeans.fit(test_data)\n",
    "centroids = kmeans.get_labels(test_data)\n",
    "# or\n",
    "# centroids = kmeans.centroids\n",
    "```\n",
    "\n",
    "In order for the code below to work, the test data must be assigned to a variable called `test_data` and the centroids in `centroids`.\n",
    "\n",
    "This question will not be evaluated."
   ]
  },
  {
   "cell_type": "code",
   "execution_count": 42,
   "id": "c086df40",
   "metadata": {},
   "outputs": [],
   "source": [
    "kmeans = KMeans(k=2, max_iters=100)\n",
    "kmeans.fit(test_data)\n",
    "centroids = kmeans.centroids"
   ]
  },
  {
   "cell_type": "code",
   "execution_count": 43,
   "id": "913f9aca",
   "metadata": {},
   "outputs": [
    {
     "data": {
      "image/png": "[encoded data removed]",
      "text/plain": [
       "<Figure size 600x500 with 1 Axes>"
      ]
     },
     "metadata": {},
     "output_type": "display_data"
    }
   ],
   "source": [
    "import matplotlib.pyplot as plt\n",
    " \n",
    "plt.figure(figsize=(6, 5))\n",
    "plt.scatter(x=[x[0] for x in test_data], y=[x[1] for x in test_data], color=\"lightgrey\", s=10)\n",
    "plt.scatter(x=[x[0] for x in centroids], y=[x[1] for x in centroids], color=\"red\", s=80, marker=\"X\")\n",
    "plt.title(\"Visualizing KMeans\")\n",
    "plt.xlabel(\"X\")\n",
    "plt.ylabel(\"Y\")\n",
    "plt.show()"
   ]
  }
 ],
 "metadata": {
  "kernelspec": {
   "display_name": "Python 3 (ipykernel)",
   "language": "python",
   "name": "python3"
  },
  "language_info": {
   "codemirror_mode": {
    "name": "ipython",
    "version": 3
   },
   "file_extension": ".py",
   "mimetype": "text/x-python",
   "name": "python",
   "nbconvert_exporter": "python",
   "pygments_lexer": "ipython3",
   "version": "3.11.7"
  }
 },
 "nbformat": 4,
 "nbformat_minor": 5
}
